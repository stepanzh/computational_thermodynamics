{
 "cells": [
  {
   "cell_type": "code",
   "execution_count": 1,
   "id": "ca2a65cb",
   "metadata": {
    "tags": [
     "remove-cell"
    ]
   },
   "outputs": [
    {
     "data": {
      "text/plain": [
       "lufact"
      ]
     },
     "execution_count": 1,
     "metadata": {},
     "output_type": "execute_result"
    }
   ],
   "source": [
    "include(\"../src.jl\")"
   ]
  },
  {
   "cell_type": "markdown",
   "id": "537f892a",
   "metadata": {},
   "source": [
    "# LU-разложение\n",
    "\n",
    "На практике оказывается, что проще работать не с самой матрицей, а с представлением её в виде произведения нескольких матриц, которое называется разложением. В данном разделе выводится алгоритм решения системы уравнений, представляющий исходную матрицу в виде произведения $\\mathbf{A}=\\mathbf{L}\\mathbf{U}$ и, затем, пользующийся прямой и обратной подстановкой.\n",
    "\n",
    "## Внешнее произведение\n",
    "\n",
    "Вывод алгоритма разложения основывается на внешнем произведении векторов (*outer product*). Для двух векторов $\\mathbf{u} \\in \\real^m$, $\\mathbf{v} \\in \\real^n$ внешнее произведение является матрицей размера $m \\times n$\n",
    "\n",
    "```{math}\n",
    "\\mathbf{u}\\mathbf{v}^\\top\n",
    "= \\begin{bmatrix}\n",
    "u_1 v_1 & u_1 v_2 & \\cdots & u_1 v_n \\\\\n",
    "u_2 v_1 & u_2 v_2 & \\cdots & u_2 v_n \\\\\n",
    "\\vdots  & \\vdots  &        & \\vdots \\\\\n",
    "u_m v_n & u_m v_n & \\cdots & u_m v_n\n",
    "\\end{bmatrix}.\n",
    "```\n",
    "\n",
    "Другими словами, столбец $\\mathbf{u}$ умножается на строку $\\mathbf{v}$.\n",
    "\n",
    "Произведение матриц $\\mathbf{A}\\mathbf{B}$ является суммой внешних произведений столбцов матрицы $\\mathbf{A}$ на строки матрицы $\\mathbf{B}$, т.е.\n",
    "\n",
    "```{math}\n",
    ":label: matrouterprod\n",
    "\n",
    "\\mathbf{A}\\mathbf{B} = \\sum_{k=1}^n \\mathbf{a}_k \\mathbf{b}_k^\\top.\n",
    "```\n",
    "\n",
    "Рассмотрим теперь произведение нижнетреугольной матрицы на верхнетреугольную $\\mathbf{L}\\mathbf{U}$.\n",
    "Обозначим $\\mathbf{l}_k$ столбцы матрицы $\\mathbf{L}$, а $\\mathbf{u}_k^\\top$ -- строки матрицы $\\mathbf{U}$. Тогда произведение запишется в виде {eq}`matrouterprod`\n",
    "\n",
    "```{math}\n",
    "\\mathbf{L}\\mathbf{U} = \\sum_{k=1}^n \\mathbf{l}_k \\mathbf{u}_k^\\top.\n",
    "```\n",
    "\n",
    "Первая строка этого произведения имеет вид (здесь $\\mathbf{e}_1^\\top$ -- первая строка единичной матрицы, домножение на неё слева выделяет первую строку)\n",
    "\n",
    "```{math}\n",
    ":label: lu_row\n",
    "\n",
    "\\mathbf{e}_1^\\top \\sum_{k=1}^n \\mathbf{l}_k \\mathbf{u}_k^\\top\n",
    "= \\sum_{k=1}^n (\\mathbf{e}_1^\\top \\mathbf{l}_k) \\mathbf{u}_k^\\top\n",
    "= L_{11} \\mathbf{u}_1^\\top,\n",
    "```\n",
    "\n",
    "поскольку только первый элемент столбца $\\mathbf{l}_k$ ненулевой только у $\\mathbf{l}_1$.\n",
    "Посмотрите на схему ниже\n",
    "\n",
    "```\n",
    "     L               U\n",
    "\n",
    "| □ ⋅ ⋅ ⋅ |     | □ □ □ □ |\n",
    "| □ □ ⋅ ⋅ |     | ⋅ □ □ □ |\n",
    "| □ □ □ ⋅ |     | ⋅ ⋅ □ □ |\n",
    "| □ □ □ □ |     | ⋅ ⋅ ⋅ □ |\n",
    "```\n",
    "\n",
    "Первый же столбец $\\mathbf{L}\\mathbf{U}$ имеет вид\n",
    "\n",
    "```{math}\n",
    ":label: lu_col\n",
    "\n",
    "\\Bigg( \\sum_{k=1}^n \\mathbf{l}_k \\mathbf{u}_k^\\top \\Bigg) \\mathbf{e}_1\n",
    "= \\sum_{k=1}^n \\mathbf{l}_k (\\mathbf{u}_k^\\top \\mathbf{e}_1)\n",
    "= U_{11} \\mathbf{l}_1.\n",
    "```\n",
    "\n",
    "Воспользуемся свойствами {eq}`lu_row` и {eq}`lu_col` для вывода LU-разложения.\n",
    "\n",
    "## Разложение\n",
    "\n",
    "```{proof:definition} LU-разложение\n",
    "Для квадратной матрицы $\\mathbf{A}$ размера $n \\times n$ необходимо найти\n",
    "\n",
    "$$\n",
    "\\mathbf{A} = \\mathbf{LU},\n",
    "$$\n",
    "\n",
    "где $\\mathbf{L}$ -- нижнетреугольная матрица, а $\\mathbf{U}$ -- верхнетреугольная матрица.\n",
    "```\n",
    "\n",
    "LU-разложение сводится к нахождению $n^2 + n$ неизвестных.\n",
    "\n",
    "Пусть диагональные элементы $\\mathbf{L}$ единичны $L_{11} = L_{22} = \\cdots = L_{nn} = 1$. Теперь, зная $L_{11} = 1$, применим {eq}`lu_row`, и получим\n",
    "\n",
    "```{math}\n",
    "\\mathbf{a}_1^\\top = \\mathbf{e}_1^\\top \\mathbf{A} = \\mathbf{e}_1^\\top (\\mathbf{LU}) = \\mathbf{u}_1^\\top,\n",
    "```\n",
    "\n",
    "т.е. первая строка матрицы $\\mathbf{U}$ равняется первой строке матрицы $\\mathbf{A}$, $\\mathbf{u}_1^\\top = \\mathbf{a}_1^\\top$.\n",
    "\n",
    "На этом шаге нам стало известно значение $U_{11}$. Воспользуемся теперь {eq}`lu_col`\n",
    "\n",
    "```{math}\n",
    "\\mathbf{a}_1 = \\mathbf{A} \\mathbf{e}_1 = (\\mathbf{LU}) \\mathbf{e}_1 = U_{11} \\mathbf{l}_1,\n",
    "```\n",
    "\n",
    "откуда следует выражение для первого столбца матрицы $\\mathbf{L}$\n",
    "\n",
    "```{math}\n",
    "\\mathbf{l}_1 = \\frac{\\mathbf{a}_1}{U_{11}}.\n",
    "```\n",
    "\n",
    "Теперь вычтем из исходной матрицы внешнее произведение\n",
    "\n",
    "```{math}\n",
    "\\mathbf{A}_2 = \\mathbf{A} - \\mathbf{l}_1 \\mathbf{u}_1^\\top\n",
    "= \\sum_{k=2}^n \\mathbf{l}_k \\mathbf{u}_k^\\top.\n",
    "```\n",
    "\n",
    "Полученная матрица $\\mathbf{A}_2$ будет иметь нулевую первую строку и нулевой первый столбец.\n",
    "\n",
    "Таким образом, задача свелась к предыдущей, но, фактически, на квадратной матрице меньшего размера. Повторяя эту процедуру дальше, получим остальные строки и столбцы разложения. Ниже приведена схема вычислений и демонстрация на небольшой матрицы.\n",
    "\n",
    "```\n",
    "  A₁ = A             A₂              A₃              A₄\n",
    "\n",
    "| □ □ □ □ |     | ⋅ ⋅ ⋅ ⋅ |     | ⋅ ⋅ ⋅ ⋅ |     | ⋅ ⋅ ⋅ ⋅ |\n",
    "| □ □ □ □ |     | ⋅ □ □ □ |     | ⋅ ⋅ ⋅ ⋅ |     | ⋅ ⋅ ⋅ ⋅ |\n",
    "| □ □ □ □ |     | ⋅ □ □ □ |     | ⋅ ⋅ □ □ |     | ⋅ ⋅ ⋅ ⋅ |\n",
    "| □ □ □ □ |     | ⋅ □ □ □ |     | ⋅ ⋅ □ □ |     | ⋅ ⋅ ⋅ □ |\n",
    "```\n",
    "\n",
    "```{proof:demo}\n",
    "```\n",
    "```{raw} html\n",
    "<div class=\"demo\">\n",
    "```\n",
    "\n",
    "Рассмотрим пример работы алгоритма на матрице размера $4 \\times 4$. Исходную матрицу обозначим `A₁`, нижнетреугольную `L` проинициализируем единичной матрицей, а верхнетреугольную `U` нулями."
   ]
  },
  {
   "cell_type": "code",
   "execution_count": 2,
   "id": "834151fa",
   "metadata": {},
   "outputs": [],
   "source": [
    "A₁ = Float64[\n",
    "   5  1  0  9;\n",
    "   4  2 -1  4;\n",
    "   8 -1  4  1;\n",
    "   5  7  4  6;\n",
    "]\n",
    "L = diagm(0 => ones(4))\n",
    "U = zeros(4, 4);"
   ]
  },
  {
   "cell_type": "markdown",
   "id": "9c4be50e",
   "metadata": {},
   "source": [
    "Первый шаг алгоритма основывается на {eq}`lu_row`: вычисляем первую строку `U`"
   ]
  },
  {
   "cell_type": "code",
   "execution_count": 3,
   "id": "40750641",
   "metadata": {},
   "outputs": [
    {
     "data": {
      "text/plain": [
       "4×4 Matrix{Float64}:\n",
       " 5.0  1.0  0.0  9.0\n",
       " 0.0  0.0  0.0  0.0\n",
       " 0.0  0.0  0.0  0.0\n",
       " 0.0  0.0  0.0  0.0"
      ]
     },
     "execution_count": 3,
     "metadata": {},
     "output_type": "execute_result"
    }
   ],
   "source": [
    "U[1, :] .= A₁[1, :]\n",
    "U"
   ]
  },
  {
   "cell_type": "markdown",
   "id": "743c7b38",
   "metadata": {},
   "source": [
    "Теперь вычислим первый столбец `L` {eq}`lu_col`"
   ]
  },
  {
   "cell_type": "code",
   "execution_count": 4,
   "id": "d820a743",
   "metadata": {},
   "outputs": [
    {
     "data": {
      "text/plain": [
       "4×4 Matrix{Float64}:\n",
       " 1.0  0.0  0.0  0.0\n",
       " 0.8  1.0  0.0  0.0\n",
       " 1.6  0.0  1.0  0.0\n",
       " 1.0  0.0  0.0  1.0"
      ]
     },
     "execution_count": 4,
     "metadata": {},
     "output_type": "execute_result"
    }
   ],
   "source": [
    "L[:, 1] .= A₁[:, 1] ./ U[1, 1]\n",
    "L"
   ]
  },
  {
   "cell_type": "markdown",
   "id": "cfffde52",
   "metadata": {},
   "source": [
    "Вычтем из `A₁` внешнее произведение первого столбца `L` и первой строки `U`"
   ]
  },
  {
   "cell_type": "code",
   "execution_count": 5,
   "id": "cac168ea",
   "metadata": {},
   "outputs": [
    {
     "data": {
      "text/plain": [
       "4×4 Matrix{Float64}:\n",
       " 0.0   0.0   0.0    0.0\n",
       " 0.0   1.2  -1.0   -3.2\n",
       " 0.0  -2.6   4.0  -13.4\n",
       " 0.0   6.0   4.0   -3.0"
      ]
     },
     "execution_count": 5,
     "metadata": {},
     "output_type": "execute_result"
    }
   ],
   "source": [
    "A₂ = A₁ - L[:, 1] * U[1, :]'"
   ]
  },
  {
   "cell_type": "markdown",
   "id": "dd3cc934",
   "metadata": {},
   "source": [
    "$\\mathbf{A}_2 = \\mathbf{l}_2 \\mathbf{u}_2^\\top + \\mathbf{l}_3 \\mathbf{u}_3^\\top + \\mathbf{l}_4 \\mathbf{u}_4^\\top$. Так, задача свелась к предыдущей, на матрице размера $3 \\times 3$."
   ]
  },
  {
   "cell_type": "code",
   "execution_count": 6,
   "id": "1c79bb8c",
   "metadata": {},
   "outputs": [
    {
     "data": {
      "text/plain": [
       "4×4 Matrix{Float64}:\n",
       " 0.0  0.0  0.0        0.0\n",
       " 0.0  0.0  0.0        0.0\n",
       " 0.0  0.0  1.83333  -20.3333\n",
       " 0.0  0.0  9.0       13.0"
      ]
     },
     "execution_count": 6,
     "metadata": {},
     "output_type": "execute_result"
    }
   ],
   "source": [
    "U[2, :] .= A₂[2, :]\n",
    "L[:, 2] .= A₂[:, 2] ./ U[2, 2]\n",
    "A₃ = A₂ - L[:, 2] * U[2, :]'"
   ]
  },
  {
   "cell_type": "markdown",
   "id": "6d277607",
   "metadata": {},
   "source": [
    "Предпоследний шаг"
   ]
  },
  {
   "cell_type": "code",
   "execution_count": 7,
   "id": "4ca768c3",
   "metadata": {},
   "outputs": [
    {
     "data": {
      "text/plain": [
       "4×4 Matrix{Float64}:\n",
       " 0.0  0.0  0.0    0.0\n",
       " 0.0  0.0  0.0    0.0\n",
       " 0.0  0.0  0.0    0.0\n",
       " 0.0  0.0  0.0  112.818"
      ]
     },
     "execution_count": 7,
     "metadata": {},
     "output_type": "execute_result"
    }
   ],
   "source": [
    "U[3, :] .= A₃[3, :]\n",
    "L[:, 3] .= A₃[:, 3] ./ U[3, 3]\n",
    "A₄ = A₃ - L[:, 3] * U[3, :]'"
   ]
  },
  {
   "cell_type": "markdown",
   "id": "3de87d0c",
   "metadata": {},
   "source": [
    "И последний"
   ]
  },
  {
   "cell_type": "code",
   "execution_count": 8,
   "id": "97e249a0",
   "metadata": {},
   "outputs": [],
   "source": [
    "U[4, 4] = A₄[4, 4];"
   ]
  },
  {
   "cell_type": "markdown",
   "id": "11b83088",
   "metadata": {},
   "source": [
    "Теперь известно разложение матрицы"
   ]
  },
  {
   "cell_type": "code",
   "execution_count": 9,
   "id": "ebe549aa",
   "metadata": {},
   "outputs": [
    {
     "data": {
      "text/plain": [
       "4×4 Matrix{Float64}:\n",
       " 5.0  1.0   0.0        9.0\n",
       " 0.0  1.2  -1.0       -3.2\n",
       " 0.0  0.0   1.83333  -20.3333\n",
       " 0.0  0.0   0.0      112.818"
      ]
     },
     "execution_count": 9,
     "metadata": {},
     "output_type": "execute_result"
    }
   ],
   "source": [
    "U"
   ]
  },
  {
   "cell_type": "code",
   "execution_count": 10,
   "id": "e14774b6",
   "metadata": {},
   "outputs": [
    {
     "data": {
      "text/plain": [
       "4×4 Matrix{Float64}:\n",
       " 1.0   0.0      0.0      0.0\n",
       " 0.8   1.0      0.0      0.0\n",
       " 1.6  -2.16667  1.0      0.0\n",
       " 1.0   5.0      4.90909  1.0"
      ]
     },
     "execution_count": 10,
     "metadata": {},
     "output_type": "execute_result"
    }
   ],
   "source": [
    "L"
   ]
  },
  {
   "cell_type": "markdown",
   "id": "d06f4970",
   "metadata": {},
   "source": [
    "Проверим, что $\\mathbf{A} = \\mathbf{LU}$. Из-за погрешность вычислений с плавающей точкой, возможны неточности."
   ]
  },
  {
   "cell_type": "code",
   "execution_count": 11,
   "id": "fcf8b052",
   "metadata": {},
   "outputs": [
    {
     "data": {
      "text/plain": [
       "4×4 Matrix{Float64}:\n",
       " 0.0  0.0          0.0  0.0\n",
       " 0.0  0.0          0.0  0.0\n",
       " 0.0  2.22045e-16  0.0  0.0\n",
       " 0.0  0.0          0.0  0.0"
      ]
     },
     "execution_count": 11,
     "metadata": {},
     "output_type": "execute_result"
    }
   ],
   "source": [
    "A₁ - L * U"
   ]
  },
  {
   "cell_type": "markdown",
   "id": "c8774d6b",
   "metadata": {},
   "source": [
    "```{raw} html\n",
    "</div>\n",
    "```\n",
    "\n",
    "Следуя примеру выше несложно написать реализацию.\n",
    "\n",
    "(function-lufact)=\n",
    "```{proof:function} lufact\n",
    "\n",
    "**LU-разложение (нестабильное)**\n",
    "\n",
    ":::julia\n",
    "\"Нестабильное LU-разложение квадратной матрицы `A`. Возвращает `L`, `U`.\"\n",
    "function lufact(A::AbstractMatrix)\n",
    "    n = size(A, 1)\n",
    "    L = diagm(0 => ones(n))\n",
    "    U = zeros(n, n)\n",
    "    Aₖ = float(copy(A))\n",
    "    \n",
    "    for k in 1:n-1\n",
    "        U[k, :] .= Aₖ[k, :]\n",
    "        L[:, k] .= Aₖ[:, k] ./ U[k, k]\n",
    "        Aₖ .-= L[:, k] * U[k, :]'\n",
    "    end\n",
    "    U[n, n] = Aₖ[n, n]\n",
    "    return LowerTriangular(L), UpperTriangular(U)\n",
    "end\n",
    ":::\n",
    "\n",
    ":::{note}\n",
    "В строке `Aₖ = float(copy(A))` используется копирование входной матрицы, поскольку в Julia массивы передаются в функцию по ссылке.\n",
    "\n",
    "В теле цикла использован броадкаст операций для избежания выделений памяти. Например, операция `Aₖ[:, k] / U[k, k]` выделяет вектор `Aₖ[:, k]`, а затем выделяет новый вектор в результате деления. В случае с броадкастом операций такие выделения памяти не происходят.\n",
    ":::\n",
    "```\n",
    "\n",
    "## Решение системы уравнений\n",
    "\n",
    "```{proof:algorithm} Решение системы уравнений через LU-разложение\n",
    "Пусть дана система уравнений $\\mathbf{A x} = \\mathbf{b}$. Алгоритм решения следующий\n",
    "\n",
    "1. Разложить матрицу $\\mathbf{A} = \\mathbf{LU}$;\n",
    "2. Решить $\\mathbf{L z} = \\mathbf{b}$, используя прямую подставновку;\n",
    "3. Решить $\\mathbf{U x} = \\mathbf{z}$, используя обратную подстановку.\n",
    "```\n",
    "\n",
    "Решение системы уравнений через LU-разложение имеет преимущество над методом Гаусса.\n",
    "Так, в методе Гаусса составляется матрица $[\\mathbf{A}\\:\\mathbf{b}]$, где левая часть приводится к треугольному виду. В результате, для нескольких систем с разными правыми частями приходится проводить процедуру заново. В LU-разложении достаточно один раз разложить исходную матрицу, а затем воспользоваться шагами 2 и 3 алгоритма выше для разных правых частей $\\mathbf{b}$.\n",
    "\n",
    "```{proof:demo} Пример решения\n",
    "```\n",
    "```{raw} html\n",
    "<div class=\"demo\">\n",
    "```\n",
    "\n",
    "Рассмотрим решение системы"
   ]
  },
  {
   "cell_type": "code",
   "execution_count": 12,
   "id": "bf29e1c9",
   "metadata": {},
   "outputs": [],
   "source": [
    "A = [5  1  0  9; 4  2 -1  4; 8 -1  4  1; 5  7  4  6]\n",
    "b = [1, 2, 7, 3];"
   ]
  },
  {
   "cell_type": "markdown",
   "id": "a82fcf62",
   "metadata": {},
   "source": [
    "Сначала выполним разложение, а затем последовательно воспользуемся прямой и обратной подстановками"
   ]
  },
  {
   "cell_type": "code",
   "execution_count": 13,
   "id": "65ad0c9d",
   "metadata": {},
   "outputs": [
    {
     "data": {
      "text/plain": [
       "4-element Vector{Float64}:\n",
       "  0.876712328767123\n",
       "  0.06849315068493178\n",
       "  0.10958904109589054\n",
       " -0.38356164383561636"
      ]
     },
     "execution_count": 13,
     "metadata": {},
     "output_type": "execute_result"
    }
   ],
   "source": [
    "L, U = lufact(A)\n",
    "z = forwardsub(L, b)\n",
    "x = backwardsub(U, z)"
   ]
  },
  {
   "cell_type": "markdown",
   "id": "2fcbc215",
   "metadata": {},
   "source": [
    "Невязка при этом составила"
   ]
  },
  {
   "cell_type": "code",
   "execution_count": 14,
   "id": "90b3b0a9",
   "metadata": {},
   "outputs": [
    {
     "data": {
      "text/plain": [
       "4-element Vector{Float64}:\n",
       " -4.440892098500626e-16\n",
       "  2.220446049250313e-16\n",
       "  8.881784197001252e-16\n",
       " -1.7763568394002505e-15"
      ]
     },
     "execution_count": 14,
     "metadata": {},
     "output_type": "execute_result"
    }
   ],
   "source": [
    "b - A*x"
   ]
  },
  {
   "cell_type": "markdown",
   "id": "fe37fade",
   "metadata": {},
   "source": [
    "```{raw} html\n",
    "</div>\n",
    "```"
   ]
  }
 ],
 "metadata": {
  "jupytext": {
   "formats": "md:myst",
   "text_representation": {
    "extension": ".md",
    "format_name": "myst"
   }
  },
  "kernelspec": {
   "display_name": "Julia",
   "language": "julia",
   "name": "julia-1.6"
  },
  "language_info": {
   "file_extension": ".jl",
   "mimetype": "application/julia",
   "name": "julia",
   "version": "1.6.2"
  },
  "source_map": [
   13,
   17,
   150,
   159,
   163,
   166,
   170,
   173,
   177,
   179,
   183,
   187,
   191,
   195,
   199,
   201,
   205,
   208,
   210,
   214,
   216,
   275,
   278,
   282,
   286,
   290,
   292
  ]
 },
 "nbformat": 4,
 "nbformat_minor": 5
}