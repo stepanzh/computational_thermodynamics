{
 "cells": [
  {
   "cell_type": "code",
   "execution_count": 1,
   "id": "606ba740",
   "metadata": {
    "tags": [
     "remove-cell"
    ]
   },
   "outputs": [
    {
     "data": {
      "text/plain": [
       "broydensys"
      ]
     },
     "execution_count": 1,
     "metadata": {},
     "output_type": "execute_result"
    }
   ],
   "source": [
    "include(\"../src.jl\")"
   ]
  },
  {
   "cell_type": "markdown",
   "id": "c1b848d3",
   "metadata": {},
   "source": [
    "# Метод Бройдена\n",
    "\n",
    "Метод Ньютона послужил основой для многих других методов. Недостатком метода является требовательное по времени вычисление якобиана на каждой итерации. Для некоторых приложений это неприемлимо. Вместо прямого вычисления якобиана, **квазиньютоновские** методы заменяют якобиан некоторым приближением.\n",
    "\n",
    "## Приближение якобиана конечной разностью\n",
    "\n",
    "В {numref}`%s Методе секущих <chapter-nlroot-secant>` мы фактически сталкивались с приближением производной функции в точке $f'(x_{k+1})$\n",
    "\n",
    "```{math}\n",
    "\\frac{f(x_{k+1}) - f(x_k)}{x_{k+1} - x_k}.\n",
    "```\n",
    "\n",
    "Численный метод, приближающий производную \"из определения\" ($\\lim_{\\Delta x \\to 0} \\Delta f / \\Delta x$) называется методом конечной разности. Формулу замены производной её численным аналогом называют *разностной схемой*. Эти методы распространнены в решении дифференциальных уравнений.\n",
    "\n",
    "Подобным образом можно поступить для приближения якобиана. В общем случае для $\\mathbf{f}: \\real^n \\to \\real^m$ якобиан преобразования имеет размер $m \\times n$. Выпишем его $j$-ый столбец\n",
    "\n",
    "```{math}\n",
    "\\mathbf{J}(\\mathbf{x}) \\mathbf{e}_j\n",
    "= \\begin{bmatrix}\n",
    "\\frac{\\partial f_1}{\\partial x_j}\\\\\n",
    "\\frac{\\partial f_2}{\\partial x_j}\\\\\n",
    "\\vdots\\\\\n",
    "\\frac{\\partial f_m}{\\partial x_j}\n",
    "\\end{bmatrix},\n",
    "```\n",
    "\n",
    "где $\\mathbf{e}_j$ -- $j$-ый столбец единичной матрицы.\n",
    "\n",
    "Якобиан состоит из частных производных, таким образом, можно выписать его приближение через конечные разности\n",
    "\n",
    "```{math}\n",
    "\\mathbf{J}(\\mathbf{x}) \\mathbf{e}_j\n",
    "\\approx \\frac{\\mathbf{f}(\\mathbf{x} + \\delta \\mathbf{e}_j) - \\mathbf{f}(\\mathbf{x})}{\\delta},\\quad \\delta \\in \\real.\n",
    "```\n",
    "\n",
    "Значение $\\delta$ выбирают, по умолчанию, близким к $\\sqrt{\\macheps}$ как предел численной стабильности метода конечных разностей. Этот предел берётся из сопоставления ошибки, даваемой самим методом и ошибкой округления при вычислениях.\n",
    "\n",
    "```{proof:function} jacobianfd\n",
    "\n",
    "**Приближение якобиана конечной разностью**\n",
    "\n",
    ":::julia\n",
    "\"\"\"\n",
    "    jacobianfd(f, x[; y, δ])\n",
    "\n",
    "Вычисляет якобиан функции `f` в точке `x` через конечную разность в точках `x` и `x + δ\n",
    "I[:, j]`, где `δ::Number` - скаляр. Опционально можно подать `y == f(x)`. \n",
    "\"\"\"\n",
    "function jacobianfd(f, x; y=f(x), δ=sqrt(eps())*max(norm(x), 1))\n",
    "    m, n = size(y, 1), size(x, 1)\n",
    "    J = zeros(m, n)\n",
    "    x = float(copy(x))\n",
    "    for j in 1:n\n",
    "        x[j] += δ\n",
    "        J[:, j] .= (f(x) .- y) ./ δ\n",
    "        x[j] -= δ\n",
    "    end\n",
    "    return J\n",
    "end\n",
    ":::\n",
    "```\n",
    "\n",
    "```{proof:demo}\n",
    "```\n",
    "```{raw} html\n",
    "<div class=\"demo\">\n",
    "```\n",
    "\n",
    "Сравним на небольшом примере точность приближения якобиана. В качестве функции и точки приближения возьмём\n",
    "\n",
    "```{math}\n",
    "\\mathbf{f}(\\mathbf{x})\n",
    "= \\begin{bmatrix}\n",
    "x_2 \\exp{x_1} + \\sin{x_1}\\\\\n",
    "\\cos{x_2} + x_1 x_3\\\\\n",
    "\\log{x_3} + x_2^2\n",
    "\\end{bmatrix}\n",
    ",\\quad\n",
    "\\mathbf{x}\n",
    "= \\begin{bmatrix}\n",
    "\\frac{2}{3}\\\\\n",
    "-1\\\\\n",
    "\\sqrt{2}\n",
    "\\end{bmatrix}.\n",
    "```"
   ]
  },
  {
   "cell_type": "code",
   "execution_count": 2,
   "id": "e1688805",
   "metadata": {
    "tags": [
     "remove-output"
    ]
   },
   "outputs": [
    {
     "data": {
      "text/plain": [
       "J (generic function with 1 method)"
      ]
     },
     "execution_count": 2,
     "metadata": {},
     "output_type": "execute_result"
    }
   ],
   "source": [
    "function f(x)\n",
    "    x₁, x₂, x₃ = x\n",
    "    return [\n",
    "        x₂*exp(x₁) + sin(x₁),\n",
    "        cos(x₂) + x₁*x₃,\n",
    "        log(x₃) + x₂^2,\n",
    "    ]\n",
    "end\n",
    "\n",
    "function J(x)\n",
    "    x₁, x₂, x₃ = x\n",
    "    return [\n",
    "        x₂*exp(x₁)+cos(x₁)   exp(x₁)  0    ;\n",
    "        x₃                  -sin(x₂)  x₁   ;\n",
    "        0                    2x₂      1/x₃ ;\n",
    "    ]\n",
    "end"
   ]
  },
  {
   "cell_type": "markdown",
   "id": "aa5e1c62",
   "metadata": {},
   "source": [
    "Вычислим якобиан напрямую `Jexact`, и через конченые раности `Jfd`"
   ]
  },
  {
   "cell_type": "code",
   "execution_count": 3,
   "id": "adabcd6b",
   "metadata": {},
   "outputs": [
    {
     "data": {
      "text/plain": [
       "3×3 Matrix{Float64}:\n",
       " -1.16185   1.94773   0.0\n",
       "  1.41421   0.841471  0.666667\n",
       "  0.0      -2.0       0.707107"
      ]
     },
     "metadata": {},
     "output_type": "display_data"
    },
    {
     "data": {
      "text/plain": [
       "3×3 Matrix{Float64}:\n",
       " -1.16185   1.94773   0.0\n",
       "  1.41421   0.841471  0.666667\n",
       "  0.0      -2.0       0.707107"
      ]
     },
     "metadata": {},
     "output_type": "display_data"
    },
    {
     "name": "stdout",
     "output_type": "stream",
     "text": [
      "norm(Jexact - Jfd) = 4.4920040357185245e-8\n"
     ]
    }
   ],
   "source": [
    "x = [2/3, -1.0, sqrt(2)]\n",
    "Jexact, Jfd = J(x), jacobianfd(f, x)\n",
    "Jexact |> display\n",
    "Jfd |> display\n",
    "@show norm(Jexact - Jfd);"
   ]
  },
  {
   "cell_type": "markdown",
   "id": "ba44c16d",
   "metadata": {},
   "source": [
    "Отличие в данной точке получилось небольшим. В качестве меры невязки здесь приведена норма Фробениуса для матриц $\\sqrt{\\sum A_{ij}^2}$.\n",
    "\n",
    "```{raw} html\n",
    "</div>\n",
    "```\n",
    "\n",
    "## Метод\n",
    "\n",
    "Обозначим приближение якобиана в точке $\\mathbf{x}_k$ через $\\mathbf{B}_k$, т.е.\n",
    "\n",
    "```{math}\n",
    "\\mathbf{J}(\\mathbf{x}_k) \\approx \\mathbf{B}_k.\n",
    "```\n",
    "\n",
    "На $k$-ой итерации шаг квазиньютоновского метода будем находить из системы\n",
    "\n",
    "```{math}\n",
    ":label: sysnonlinear_quasi_step\n",
    "\n",
    "\\mathbf{B}_k \\delta \\mathbf{x}_k = - \\mathbf{f}_k,\n",
    "```\n",
    "\n",
    "здесь обозначены $\\delta \\mathbf{x}_k = \\mathbf{x}_{k+1} - \\mathbf{x}_k$, а $\\mathbf{f}_k = \\mathbf{f}(\\mathbf{x}_k)$.\n",
    "\n",
    "Квазиньютоновское условие на новое приближение якобиана $\\mathbf{B}_{k+1}$ состоит в\n",
    "\n",
    "```{math}\n",
    ":label: sysnonlinear_quasi_cond\n",
    "\\mathbf{B}_{k+1} \\delta \\mathbf{x}_k = \\mathbf{f}_{k+1} - \\mathbf{f}_k.\n",
    "```\n",
    "\n",
    "Выбор $\\mathbf{B}_{k+1}$ не однозначен. На практике хорошие результаты показывает правило Бройдена, выведенное из минимальной в смысле нормы Фробениуса поправки к $\\mathbf{B}_k$\n",
    "\n",
    "```{math}\n",
    ":label: sysnonlinear_broyden_cond\n",
    "\n",
    "\\min \\|\\mathbf{B}_{k+1} - \\mathbf{B}_k \\|_\\text{F},\\quad \\| \\mathbf{A} \\|_\\text{F}\n",
    "= \\big( \\sum_{i, j} |A_{ij}|^2 \\big)^{1/2},\n",
    "```\n",
    "\n",
    "такой, что условие {eq}`sysnonlinear_quasi_cond` удовлетворится.\n",
    "\n",
    "```{proof:definition} Правило Бройдена\n",
    "\n",
    ":::{math}\n",
    ":label: sysnonlinear_broyden_update\n",
    "\n",
    "\\mathbf{B}_{k+1} = \\mathbf{B}_k + \\frac{1}{\\delta \\mathbf{x}^\\top_k \\delta \\mathbf{x}_k}\n",
    "(\\mathbf{f}_{k+1} - \\mathbf{f}_k - \\mathbf{B}_k \\delta \\mathbf{x}_k)\n",
    "\\delta \\mathbf{x}^\\top_k.\n",
    ":::\n",
    "```\n",
    "\n",
    "Самыми ресурсоемкими операциями в правиле Бройдена является матричное умножение ($\\mathbf{B}_k \\delta \\mathbf{x}_k$) и внешнее произведение ($\\square \\cdot \\delta \\mathbf{x}^\\top_k$). При этом при использовании {ref}`QR-разложения <chapter_syslinear_qr>` получается сэкономить часть операций (для этого разложения $\\text{QR}(\\mathbf{A} + \\mathbf{a}\\mathbf{b}^\\top)$ выражается через $\\text{QR}(\\mathbf{A})$).\n",
    "\n",
    "\n",
    "```{index} метод; Бройдена, Бройдена метод\n",
    "```\n",
    "```{proof:algorithm} Метод Бройдена\n",
    "Пусть дана функция $\\mathbf{f}$, начальная точка $\\mathbf{x}_1$ и приближение якобиана в этой точке $\\mathbf{B}_1$. Последующие приближения $k = 2, 3, \\ldots$ получаются примением действий\n",
    "\n",
    "1. Решить систему {eq}`sysnonlinear_quasi_step`, найдя таким образом шаг $\\delta \\mathbf{x}_k$;\n",
    "\n",
    "2. Построить новое приближение корня $\\mathbf{x}_{k+1} = \\mathbf{x}_k + \\delta \\mathbf{x}_k$ и вычислить значение функции в нём $\\mathbf{f}_{k+1} = \\mathbf{f}(\\mathbf{x}_{k+1})$;\n",
    "\n",
    "3. Получить новое приближение для якобиана $\\mathbf{B}_{k+1}$ из формулы {eq}`sysnonlinear_broyden_update`.\n",
    "```\n",
    "\n",
    "В качестве начального приближения якобиана можно использовать как его конечную разность, так и настоящий якобиан.\n",
    "\n",
    "## Реализация\n",
    "\n",
    "```{proof:function} broydensys\n",
    "\n",
    "**Метод Бройдена**\n",
    "\n",
    ":::julia\n",
    "\"\"\"\n",
    "    broydensys(f, x, J[; maxiter, xtol, ftol])\n",
    "\n",
    "Решает нелинейную систему уравнений `f`(x) = 0 методом Бройдена.\n",
    "Требует начального приближения корня `x` уравнения и якобиана `J` в этой точке.\n",
    "Выполняет итерации, пока норма решения `> xtol` или норма функции `> ftol`.\n",
    "В случае превышения числа итераций `maxiter` вызывает ошибку.\n",
    "\"\"\"\n",
    "function broydensys(f, x, J; maxiter=50, xtol=1e-6, ftol=1e-6)\n",
    "    δx = float(similar(x))\n",
    "    yp, yn = similar.((δx, δx))\n",
    "    x = float(copy(x))\n",
    "    B = float(copy(J))\n",
    "    yn .= f(x)\n",
    "    for i in 1:maxiter\n",
    "        yp .= yn\n",
    "        δx .= .- (B \\ yp)\n",
    "        x .+= δx\n",
    "        yn .= f(x)\n",
    "        if norm(δx) < xtol || norm(yn) < ftol\n",
    "            return x\n",
    "        end\n",
    "        g = B * δx\n",
    "        B .+= (1 / dot(δx, δx)) .* (yn .- yp .- g) .* δx'\n",
    "    end\n",
    "    error(\"Превышено число итераций.\")\n",
    "end\n",
    ":::\n",
    "\n",
    "В данной реализации для простоты изложения явно не использовано QR-разложение, имеющее преимещуство перед LU-разложением при обновлении `B`.\n",
    "```\n",
    "\n",
    "```{proof:demo}\n",
    "```\n",
    "```{raw} html\n",
    "<div class=\"demo\">\n",
    "```\n",
    "\n",
    "Рассмотрим пример использования метода Бройдена. Возьмём функцию и якобиан из {numref}`Демонстрации %s <demo_sysnonlinear_newton>`, где использовался метод Ньютона"
   ]
  },
  {
   "cell_type": "code",
   "execution_count": 4,
   "id": "78be73dd",
   "metadata": {
    "tags": [
     "remove-output"
    ]
   },
   "outputs": [
    {
     "data": {
      "text/plain": [
       "J (generic function with 1 method)"
      ]
     },
     "execution_count": 4,
     "metadata": {},
     "output_type": "execute_result"
    }
   ],
   "source": [
    "function f(x)\n",
    "    x₁, x₂ = x\n",
    "    return [\n",
    "        x₁^2 - 2x₂^2 - x₁*x₂ + 2x₁ - x₂ + 1,\n",
    "        2x₁^2 - x₂^2 + x₁*x₂ + 3x₂ - 5,\n",
    "    ]\n",
    "end\n",
    "\n",
    "function J(x)\n",
    "    x₁, x₂ = x\n",
    "    return [\n",
    "        2x₁-x₂+2 -4x₂-x₁-1;\n",
    "        4x₁+x₂   -2x₂+x₁+3\n",
    "    ]\n",
    "end"
   ]
  },
  {
   "cell_type": "markdown",
   "id": "28166f35",
   "metadata": {},
   "source": [
    "Сравним решения методом Бройдена, где в качестве $\\mathbf{B}_1$ сначала используется истинный якобиан, а затем его конечная разность"
   ]
  },
  {
   "cell_type": "code",
   "execution_count": 5,
   "id": "798a8cbf",
   "metadata": {},
   "outputs": [
    {
     "name": "stdout",
     "output_type": "stream",
     "text": [
      "rjac = [0.9999999480032709, 1.0000000136175218]\n",
      "rfdjac = [0.9999999480032629, 1.0000000136175238]\n",
      "f(rjac) = [-2.3769531543038624e-7, -2.327485972841714e-7]\n"
     ]
    }
   ],
   "source": [
    "x = [10.0, 10.0]\n",
    "rjac = broydensys(f, x, J(x))\n",
    "rfdjac = broydensys(f, x, jacobianfd(f, x))\n",
    "@show rjac\n",
    "@show rfdjac\n",
    "@show f(rjac);"
   ]
  },
  {
   "cell_type": "markdown",
   "id": "e774c2b9",
   "metadata": {},
   "source": [
    "Поищем также другие корни, не используя подлинный якобиан"
   ]
  },
  {
   "cell_type": "code",
   "execution_count": 6,
   "id": "afb0172e",
   "metadata": {},
   "outputs": [
    {
     "data": {
      "text/plain": [
       "([-1.4999998826044423, 0.5000004907722759], [-9.122522761639829e-7, -4.002895854782196e-7])"
      ]
     },
     "execution_count": 6,
     "metadata": {},
     "output_type": "execute_result"
    }
   ],
   "source": [
    "x = [-10.0, 10.0]\n",
    "root = broydensys(f, x, jacobianfd(f, x))\n",
    "root, f(root)"
   ]
  },
  {
   "cell_type": "code",
   "execution_count": 7,
   "id": "dae9ac2f",
   "metadata": {},
   "outputs": [
    {
     "data": {
      "text/plain": [
       "([-1.4999999895175518, 0.5000000339688467], [-6.667694529838286e-8, -4.066904324417919e-8])"
      ]
     },
     "execution_count": 7,
     "metadata": {},
     "output_type": "execute_result"
    }
   ],
   "source": [
    "x = [10.0, -10.0]\n",
    "root = broydensys(f, x, jacobianfd(f, x))\n",
    "root, f(root)"
   ]
  },
  {
   "cell_type": "code",
   "execution_count": 8,
   "id": "c647564f",
   "metadata": {},
   "outputs": [
    {
     "data": {
      "text/plain": [
       "([-1.6666666787349111, -0.3333330286952693], [6.213441907654271e-7, 6.937537433415741e-7])"
      ]
     },
     "execution_count": 8,
     "metadata": {},
     "output_type": "execute_result"
    }
   ],
   "source": [
    "x = [-10.0, -10.0]\n",
    "root = broydensys(f, x, jacobianfd(f, x))\n",
    "root, f(root)"
   ]
  },
  {
   "cell_type": "markdown",
   "id": "77bfcce0",
   "metadata": {},
   "source": [
    "```{raw} html\n",
    "</div>\n",
    "```\n",
    "\n",
    "## Другие версии метода\n",
    "\n",
    "Изложенная выше версия метода {eq}`sysnonlinear_broyden_update` требует решения линейной системы {eq}`sysnonlinear_quasi_step`. Однако, она сочетается с линейным поиском, обеспечивающим глобальную сходимость метода, т.е. сходимостью к корню из произвольного начального приближения $\\mathbf{x}_1$, если корень существует. Правда, для этого необходимо переформулировать постановку задачи $\\mathbf{f}(\\mathbf{x}) = \\mathbf{0}$ под задачу минимизации {cite}`NumRecipes2007`.\n",
    "\n",
    "Если же линейный поиск не используется, распространены две версии алгоритма, использующие вместо матрицы $\\mathbf{B}$ обратную к ней $\\mathbf{B}^{-1}$, полученную аналитически. Использование $\\mathbf{B}^{-1}$ позволяет не решать систему {eq}`sysnonlinear_quasi_step`, а сразу вычислять шаг\n",
    "\n",
    "```{math}\n",
    "\\delta \\mathbf{x}_k = - \\mathbf{B}^{-1}_k \\mathbf{f}_k.\n",
    "```\n",
    "\n",
    "Самим Бройденом была предложена формула для $\\mathbf{B}^{-1}$ на основе применения [формулы Шермана-Моррисона](https://en.wikipedia.org/wiki/Sherman%E2%80%93Morrison_formula) к {eq}`sysnonlinear_broyden_update`\n",
    "\n",
    "```{math}\n",
    "\\mathbf{B}^{-1}_{k+1}\n",
    "= \\mathbf{B}^{-1}_k\n",
    "+ \\frac{\\delta \\mathbf{x}_k - \\mathbf{B}^{-1}_k \\delta \\mathbf{f}_k}{\n",
    "    \\delta \\mathbf{x}_k^\\top \\mathbf{B}^{-1}_k \\delta \\mathbf{f}_k\n",
    "  }\n",
    "\\delta \\mathbf{x}_k^\\top \\mathbf{B}^{-1}_k,\n",
    "```\n",
    "\n",
    "здесь $\\delta \\mathbf{f}_k = \\mathbf{f}_{k+1} - \\mathbf{f}_k$. Как и формула {eq}`sysnonlinear_broyden_update`, данная формула минимизирует поправку {eq}`sysnonlinear_broyden_cond` для \"прямой\" матрицы $\\mathbf{B}_{k+1}$. Метод, основанный на данной формуле ещё называют \"хорошим методом Бройдена\" (*good Broyden's method*).\n",
    "\n",
    "Вторая версия метода на основе обратной матрицы $\\mathbf{B}^{-1}$ использует формулу\n",
    "\n",
    "```{math}\n",
    "\\mathbf{B}^{-1}_{k+1}\n",
    "= \\mathbf{B}^{-1}_k\n",
    "+ \\frac{\\delta \\mathbf{x}_k - \\mathbf{B}^{-1}_k \\delta \\mathbf{f}_k}{\\delta \\mathbf{f}_k^\\top \\delta \\mathbf{f}_k}\n",
    "\\delta \\mathbf{f}_k^\\top,\n",
    "```\n",
    "\n",
    "которая минимизирует норму Фробениуса уже между обратными приближениями якобиана\n",
    "\n",
    "```{math}\n",
    "\\min \\|\\mathbf{B}^{-1}_{k+1} - \\mathbf{B}^{-1}_k \\|_\\text{F}.\n",
    "```\n",
    "\n",
    "Эта версия распространилась под названием \"плохого метода Бройдена\" (*bad Broyden's method*). Хотя, слова \"плохой\" и \"хороший\" в названии методов имеют нейтральную коннотацию."
   ]
  }
 ],
 "metadata": {
  "jupytext": {
   "formats": "md:myst",
   "text_representation": {
    "extension": ".md",
    "format_name": "myst"
   }
  },
  "kernelspec": {
   "display_name": "Julia",
   "language": "julia",
   "name": "julia-1.6"
  },
  "language_info": {
   "file_extension": ".jl",
   "mimetype": "application/julia",
   "name": "julia",
   "version": "1.6.2"
  },
  "source_map": [
   13,
   17,
   105,
   125,
   129,
   135,
   254,
   272,
   276,
   283,
   287,
   292,
   297,
   301
  ]
 },
 "nbformat": 4,
 "nbformat_minor": 5
}