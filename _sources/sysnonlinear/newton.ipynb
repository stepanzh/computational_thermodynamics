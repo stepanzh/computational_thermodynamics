{
 "cells": [
  {
   "cell_type": "code",
   "execution_count": 1,
   "id": "71203655",
   "metadata": {
    "tags": [
     "remove-cell"
    ]
   },
   "outputs": [
    {
     "data": {
      "text/plain": [
       "broydensys"
      ]
     },
     "execution_count": 1,
     "metadata": {},
     "output_type": "execute_result"
    }
   ],
   "source": [
    "include(\"../src.jl\")"
   ]
  },
  {
   "cell_type": "markdown",
   "id": "8044e596",
   "metadata": {},
   "source": [
    "# Метод Ньютона\n",
    "\n",
    "Одним из простых методов решения является обобщение метода Ньютона (Ньютона-Рафсона, *Newton-Raphson method*) на случай многомерной функции $\\mathbf{f}$.\n",
    "\n",
    "Как и для скалярного метода, представим $\\mathbf{f}$ линейной моделью\n",
    "\n",
    "```{math}\n",
    ":label: sysnonlinear_taylor\n",
    "\n",
    "f_i(\\mathbf{x} + \\mathbf{\\delta x})\n",
    "= f_i(\\mathbf{x}) + \\sum_{j=1}^n \\frac{\\partial f_i}{\\partial x_j}(\\mathbf{x}) \\delta x_j + O(\\mathbf{\\delta x}^2)\n",
    "```\n",
    "\n",
    "```{margin}\n",
    "В русскоязычной литературе якобианом называют, как правило, детерминант матрицы Якоби.\n",
    "```\n",
    "```{index} якобиан\n",
    "```\n",
    "```{index} pair: Якоби; матрица\n",
    "```\n",
    "Матрицу $\\mathbf{J}(\\mathbf{x})$ с элементами $J_{ij}(\\mathbf{x}) = \\frac{\\partial f_i}{\\partial x_j}(\\mathbf{x})$ называют **матрицей Якоби**, мы же, для краткости, будем называть её просто **якобианом**.\n",
    "\n",
    "С помощью якобиана система {eq}`sysnonlinear_taylor` записывается в виде\n",
    "\n",
    "```{math}\n",
    "\\mathbf{f}(\\mathbf{x} + \\mathbf{\\delta x})\n",
    "= \\mathbf{f}(\\mathbf{x}) + \\mathbf{J}(\\mathbf{x}) \\delta \\mathbf{x} + O(\\mathbf{\\delta x^2}).\n",
    "```\n",
    "\n",
    "Положим теперь $\\mathbf{f}(\\mathbf{x} + \\mathbf{\\delta x}) = \\mathbf{0}$ и отбросим квадратичную поправку. Тогда получим условие\n",
    "\n",
    "```{math}\n",
    ":label: sysnonlinear_newton_step\n",
    "\n",
    "\\mathbf{J}(\\mathbf{x}) \\delta \\mathbf{x} = - \\mathbf{f}(\\mathbf{x}),\n",
    "```\n",
    "\n",
    "которое для *фиксированного* $\\mathbf{x}$ является линейной системой на $\\delta\\mathbf{x}$.\n",
    "\n",
    "Так, метод Ньютона строит серию приближений\n",
    "\n",
    "```{math}\n",
    "\\mathbf{x}_\\text{new} = \\mathbf{x}_\\text{old} + \\delta\\mathbf{x} = \\mathbf{x}_\\text{old} - \\mathbf{J}^{-1}(\\mathbf{x}_\\text{old})\\mathbf{f}(\\mathbf{x}_\\text{old}).\n",
    "```\n",
    "\n",
    "```{index} шаг; ньтоновский (нелинейные системы)\n",
    "```\n",
    "В свою очередь, шаг $\\delta\\mathbf{x}$, найденный из условия {eq}`sysnonlinear_newton_step` называют **ньютоновским** шагом. \n",
    "\n",
    "\n",
    "```{index} метод; Ньютона многомерный\n",
    "```\n",
    "```{proof:algorithm} Многомерный метод Ньютона\n",
    "Пусть дана функция $\\mathbf{f}(\\mathbf{x})$, её якобиан $\\mathbf{J}(\\mathbf{x})$ и начальное приближение корня $\\mathbf{x}_1$. Последующие $\\mathbf{x}_k$, $k=2, 3, 4, \\ldots$ приближения корня строятся следующим образом.\n",
    "\n",
    "1. Вычислить значение функции $\\mathbf{f}_k = \\mathbf{f}(\\mathbf{x}_k)$ и якобиан $\\mathbf{J}_k = \\mathbf{J}(\\mathbf{x}_k)$;\n",
    "\n",
    "2. Решить линейную систему $\\mathbf{J}_k \\delta \\mathbf{x} = - \\mathbf{f}_k$ на шаг $\\delta \\mathbf{x}$;\n",
    "\n",
    "3. Построить новое приближение корня $\\mathbf{x}_{k+1} = \\mathbf{x}_k + \\delta \\mathbf{x}$.\n",
    "```\n",
    "\n",
    "## Реализация\n",
    "\n",
    "```{proof:function} newtonsys\n",
    "\n",
    "**Метод Ньютона-Рафсона решения системы нелинейных уравнений**\n",
    "\n",
    ":::julia\n",
    "\"\"\"\n",
    "    newtonsys(f, x, J[; maxiter=50, xtol=1e-6, ftol=1e-6])\n",
    "\n",
    "Решает нелинейную систему `f`(x) = 0 методом Ньютона-Рафсона, начиная с приближения `x`.\n",
    "Функция `J`(x) должна возвращать матрицу Якоби системы. Работа метода ограничена\n",
    "числом итераций `maxiter`, досрочное завершение происходит при достижении\n",
    "`norm(x) < xtol` или `norm(f(x)) < ftol`. При превышении числа итераций вызывает\n",
    "ошибку. Возвращает найденный корень.\n",
    "\"\"\"\n",
    "function newtonsys(f, x, J; maxiter=50, xtol=1e-6, ftol=1e-6)\n",
    "    x = float(copy(x))\n",
    "    δx, y = similar.((x, x))\n",
    "    for i in 1:maxiter\n",
    "        y .= f(x)\n",
    "        δx .= .- (J(x) \\ y)\n",
    "        x .+= δx\n",
    "\n",
    "        norm(δx) < xtol && return x\n",
    "        norm(y) < ftol && return x\n",
    "    end\n",
    "    error(\"Превышено число итераций.\")\n",
    "end\n",
    ":::\n",
    "\n",
    ":::{note}\n",
    "В данной реализации необходимая память выделяется до цикла, а затем переиспользуется с помощью механизма броадкаста. Единственное место, всё ещё выделяющее память алгоритмом, является операция `\\` решения линейной системы. Поскольку `J(x)` возвращает квадратную матрицу, `\\`-операция сначала совершает LU-разложение, требующее аллоцирования. Чтобы избежать этой аллокации, смотрите `LinearAlgebra.ldiv!`.\n",
    ":::\n",
    "```\n",
    "\n",
    "(demo_sysnonlinear_newton)=\n",
    "```{proof:demo}\n",
    "```\n",
    "```{raw} html\n",
    "<div class=\"demo\">\n",
    "```\n",
    "\n",
    "Рассмотрим в качестве примера решение системы\n",
    "\n",
    "```{math}\n",
    "\\mathbf{f}(\\mathbf{x})\n",
    "= \\begin{bmatrix}\n",
    "x_1^2 - 2 x_2^2 - x_1 x_2 + 2x_1 - x_2 + 1\\\\\n",
    "2x_1^2 - x_2^2 + x_1 x_2 + 3 x_2 - 5\n",
    "\\end{bmatrix}\n",
    "= \\mathbf{0}\n",
    "```\n",
    "\n",
    "Якобиан данной функции имеет вид\n",
    "\n",
    "```{math}\n",
    "\\mathbf{J}(\\mathbf{x})\n",
    "= \\begin{bmatrix}\n",
    "2x_1 - x_2 + 2 & -4x_2 - x_1 - 1 \\\\\n",
    "4x_1 + x_2     & -2x_2 + x_1 + 3 \n",
    "\\end{bmatrix}\n",
    "```\n",
    "\n",
    "Для решения заведём две функции `f` и `J` для функции $\\mathbf{f}$ и якобиана $\\mathbf{J}$ соответственно"
   ]
  },
  {
   "cell_type": "code",
   "execution_count": 2,
   "id": "20b2b7ae",
   "metadata": {
    "tags": [
     "remove-output"
    ]
   },
   "outputs": [
    {
     "data": {
      "text/plain": [
       "J (generic function with 1 method)"
      ]
     },
     "execution_count": 2,
     "metadata": {},
     "output_type": "execute_result"
    }
   ],
   "source": [
    "function f(x)\n",
    "    x₁, x₂ = x\n",
    "    return [\n",
    "        x₁^2 - 2x₂^2 - x₁*x₂ + 2x₁ - x₂ + 1,\n",
    "        2x₁^2 - x₂^2 + x₁*x₂ + 3x₂ - 5,\n",
    "    ]\n",
    "end\n",
    "\n",
    "function J(x)\n",
    "    x₁, x₂ = x\n",
    "    return [\n",
    "        2x₁-x₂+2 -4x₂-x₁-1;\n",
    "        4x₁+x₂   -2x₂+x₁+3\n",
    "    ]\n",
    "end"
   ]
  },
  {
   "cell_type": "markdown",
   "id": "4255a8f4",
   "metadata": {},
   "source": [
    "При наборе якобиана будьте внимательны. В Julia знак пробела или табуляция в литерале массивов означает горизонтальную конкатенацию. И в некоторых версиях языка `[x+y 0;]` (матрица `1 × 2`) может не быть эквивалентом `[x + y 0;]`.\n",
    "\n",
    "Попробуем запустить метод из разных начальных приближений."
   ]
  },
  {
   "cell_type": "code",
   "execution_count": 3,
   "id": "201da207",
   "metadata": {},
   "outputs": [
    {
     "data": {
      "text/plain": [
       "([1.0000000000000258, 1.0], [7.72715225139109e-14, 1.2878587085651816e-13])"
      ]
     },
     "execution_count": 3,
     "metadata": {},
     "output_type": "execute_result"
    }
   ],
   "source": [
    "root = newtonsys(f, [10.0, 10.0], J)\n",
    "root, f(root)"
   ]
  },
  {
   "cell_type": "code",
   "execution_count": 4,
   "id": "08a883e0",
   "metadata": {},
   "outputs": [
    {
     "data": {
      "text/plain": [
       "([-1.5, 0.5000000000000001], [0.0, 0.0])"
      ]
     },
     "execution_count": 4,
     "metadata": {},
     "output_type": "execute_result"
    }
   ],
   "source": [
    "root = newtonsys(f, [-10.0, 10.0], J)\n",
    "root, f(root)"
   ]
  },
  {
   "cell_type": "code",
   "execution_count": 5,
   "id": "1554e2c7",
   "metadata": {},
   "outputs": [
    {
     "data": {
      "text/plain": [
       "([-1.5, 0.5000000000000002], [-2.220446049250313e-16, 0.0])"
      ]
     },
     "execution_count": 5,
     "metadata": {},
     "output_type": "execute_result"
    }
   ],
   "source": [
    "root = newtonsys(f, [10.0, -10.0], J)\n",
    "root, f(root)"
   ]
  },
  {
   "cell_type": "code",
   "execution_count": 6,
   "id": "31d629f3",
   "metadata": {},
   "outputs": [
    {
     "data": {
      "text/plain": [
       "([-1.6666666666666665, -0.33333333333333315], [1.1102230246251565e-16, 0.0])"
      ]
     },
     "execution_count": 6,
     "metadata": {},
     "output_type": "execute_result"
    }
   ],
   "source": [
    "root = newtonsys(f, [-10.0, -10.0], J)\n",
    "root, f(root)"
   ]
  },
  {
   "cell_type": "markdown",
   "id": "bff6dfaa",
   "metadata": {},
   "source": [
    "Так, найдено три корня системы.\n",
    "\n",
    "```{raw} html\n",
    "</div>\n",
    "```"
   ]
  }
 ],
 "metadata": {
  "jupytext": {
   "formats": "md:myst",
   "text_representation": {
    "extension": ".md",
    "format_name": "myst"
   }
  },
  "kernelspec": {
   "display_name": "Julia",
   "language": "julia",
   "name": "julia-1.6"
  },
  "language_info": {
   "file_extension": ".jl",
   "mimetype": "application/julia",
   "name": "julia",
   "version": "1.6.2"
  },
  "source_map": [
   13,
   17,
   147,
   165,
   171,
   176,
   181,
   186,
   189
  ]
 },
 "nbformat": 4,
 "nbformat_minor": 5
}