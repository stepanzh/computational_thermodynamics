{
 "cells": [
  {
   "cell_type": "code",
   "execution_count": 1,
   "id": "4b682a9e",
   "metadata": {
    "tags": [
     "remove-cell"
    ]
   },
   "outputs": [
    {
     "data": {
      "text/plain": [
       "itproot"
      ]
     },
     "execution_count": 1,
     "metadata": {},
     "output_type": "execute_result"
    }
   ],
   "source": [
    "include(\"../src.jl\")"
   ]
  },
  {
   "cell_type": "markdown",
   "id": "9081fb02",
   "metadata": {},
   "source": [
    "(chapter_nlroot_simpleiter)=\n",
    "# Метод простой итерации\n",
    "\n",
    "Задачу поиска корня $f(x) = 0$ можно свести к поиску неподвижной точки.\n",
    "\n",
    "```{proof:definition} Задача поиска неподвижной точки\n",
    "\n",
    "Пусть дана функция $g(x)$, тогда требуется найти её неподвижную точку $x = p$\n",
    "\n",
    "$$\n",
    "p: g(p) = p.\n",
    "$$\n",
    "```\n",
    "\n",
    "Например, в качестве $g$ можно взять $g(x) = f(x) + x$ или, в более общем случае, $g(x) = c f(x) + x$, где $c \\neq 0$. Тогда получим\n",
    "\n",
    "```{math}\n",
    "p = g(p) = c f(p) + p \\implies f(p) = 0.\n",
    "```\n",
    "\n",
    "Алгоритм метода простой итерации (*fixed point iteration*) сводится к следующему. Пусть дано начальное приближение корня $x_1$, тогда вычислим следующие приближения из рекуррентного соотношения\n",
    "\n",
    "```{math}\n",
    "x_{k+1} = g(x_k), \\quad k = 1, 2, ...\n",
    "```\n",
    "\n",
    "```{index} метод; простой итерации\n",
    "```\n",
    "```{proof:function} fixedpoint\n",
    "\n",
    "**Метод простой итерации**\n",
    "\n",
    ":::julia\n",
    "\"\"\"\n",
    "Ищет неподвижную точку функции `g`, начиная с `x₁`. Выполняет итерации до тех пор,\n",
    "пока подшаг к ответу ≥ `xtol`, но не более `maxiter` раз.\n",
    "\"\"\"\n",
    "function fixedpoint(g, x₁; xtol=eps(), maxiter=25)\n",
    "    x = float(x₁)\n",
    "    for i in 1:maxiter\n",
    "        xprev = x\n",
    "        x = g(xprev)\n",
    "        abs(x - xprev) < xtol && return x\n",
    "    end\n",
    "    error(\"Число итераций превышено.\")\n",
    "end\n",
    ":::\n",
    "```\n",
    "\n",
    "## Сходимость\n",
    "\n",
    "Допустим, мы получаем серию приближений $x_k$ неподвижной точки $p$. Вместо серии $x_k$  рассмотрим серию ошибок $\\epsilon_k = x_k - p$, тогда в окрестности $p$ получим\n",
    "\n",
    "```{math}\n",
    "\\epsilon_{k+1} + p = g(\\epsilon_k + p) = g(p) + g'(p)\\epsilon_k + O(\\epsilon_k^2).\n",
    "```\n",
    "\n",
    "Отсюда, поскольку $g(p) = p$\n",
    "\n",
    "```{math}\n",
    ":label: simpleiter_error\n",
    "\n",
    "\\epsilon_{k+1} = g'(p)\\epsilon_k + O(\\epsilon_k^2).\n",
    "```\n",
    "\n",
    "Или $\\epsilon_{k+1} \\approx g'(p)\\epsilon_k$. Значит, ошибка может как расти (метод не сходится), так и убывать (метод сходится). Поэтому имеет место \n",
    "\n",
    "```{proof:proposition} Сходимость метода простой итерации\n",
    "Метод простой итерации для дифференциируемой $g$ *может сойтись* к неподвижной точке $p$ при условии $|g'(p)| < 1$.\n",
    "```\n",
    "\n",
    "Кроме того, из {eq}`simpleiter_error` видно, что отношение $\\epsilon_{k+1} / \\epsilon_k$ стремится к константе $\\sigma = g'(p)$. Такой вид сходимости распространён в задачах оптимизации и решения нелинейных уравнений. Для него введено определение.\n",
    "\n",
    "```{index} сходимость; линейная\n",
    "```\n",
    "```{index} сходимость; скорость\n",
    "```\n",
    "```{proof:definition} Линейная сходимость\n",
    "Пусть последовательность приближений $x_k$ сходится к $x^*$. Если при этом для ошибки $\\epsilon_k = x_k - x^*$ верно\n",
    "\n",
    "$$\n",
    "\\lim_{k\\to \\infty}\\frac{|\\epsilon_{k+1}|}{|\\epsilon_k|} = \\sigma < 1,\n",
    "$$\n",
    "\n",
    "то говорят, что последовательность обладает **линейной сходимостью**. А число $\\sigma$ называют **скоростью сходимости**.\n",
    "```\n",
    "\n",
    "Из-за особенностей сходимости метод простой итерации применяется не часто. Однако в задачах, для которых выполняется условие сходимости (хотя бы постфактум), метод является дешёвым способом получить грубое решение задачи. Метод активно применяется в NPT расчётах фазового равновесия и некоторых разностных схемах.\n",
    "\n",
    "```{proof:demo} Метод простой итерации\n",
    "```\n",
    "\n",
    "```{raw} html\n",
    "<div class=\"demo\">\n",
    "```\n",
    "\n",
    "Пусть необходимо найти корни полинома $f(x) = -x^2 + x$. Возьмём тогда $g(x) = f(x) + x$.\n",
    "\n",
    "Если взять начальное приближение $x_1 \\in (0, 2)$, то метод сойдётся к точке $x=1$."
   ]
  },
  {
   "cell_type": "code",
   "execution_count": 2,
   "id": "ecdce206",
   "metadata": {},
   "outputs": [
    {
     "name": "stdout",
     "output_type": "stream",
     "text": [
      "fixedpoint(g, 1.9) = 1.0\n",
      "fixedpoint(g, 0.1) = 1.0\n"
     ]
    }
   ],
   "source": [
    "g = (x) -> -x*(x-1) + x\n",
    "@show fixedpoint(g, 1.9) fixedpoint(g, 0.1);"
   ]
  },
  {
   "cell_type": "markdown",
   "id": "99b0f299",
   "metadata": {},
   "source": [
    "Этот случай предсказывается ограничением на производную $g'(x) = -2x + 2$ в неподвижной точке $g'(1) = 0$.\n",
    "\n",
    "А вот для корня $x = 0$ тогда ожидать сходимости не стоит, поскольку $g'(0) = 2$."
   ]
  },
  {
   "cell_type": "code",
   "execution_count": 3,
   "id": "b3b86a5b",
   "metadata": {
    "tags": [
     "raises-exception"
    ]
   },
   "outputs": [
    {
     "ename": "LoadError",
     "evalue": "Число итераций превышено.",
     "output_type": "error",
     "traceback": [
      "Число итераций превышено.",
      "",
      "Stacktrace:",
      " [1] error(s::String)",
      "   @ Base ./error.jl:33",
      " [2] fixedpoint(g::var\"#35#36\", x₁::Float64; xtol::Float64, maxiter::Int64)",
      "   @ Main ~/JIHT/computational_thermodynamics/book/src.jl:272",
      " [3] top-level scope",
      "   @ In[3]:1",
      " [4] eval",
      "   @ ./boot.jl:360 [inlined]",
      " [5] include_string(mapexpr::typeof(REPL.softscope), mod::Module, code::String, filename::String)",
      "   @ Base ./loading.jl:1116"
     ]
    }
   ],
   "source": [
    "fixedpoint(g, -0.1; maxiter=100)"
   ]
  },
  {
   "cell_type": "markdown",
   "id": "80db7adc",
   "metadata": {},
   "source": [
    "Однако, можно взять другую функцию $g_1(x) = -f(x) + x$, для неё уже $g_1'(0) = 2x|_0 = 0$"
   ]
  },
  {
   "cell_type": "code",
   "execution_count": 4,
   "id": "a7e8480a",
   "metadata": {},
   "outputs": [
    {
     "name": "stdout",
     "output_type": "stream",
     "text": [
      "fixedpoint(g1, -0.1) = 1.232595164407831e-32\n"
     ]
    }
   ],
   "source": [
    "g1 = (x) -> -(-x*(x-1)) + x\n",
    "@show fixedpoint(g1, -0.1);"
   ]
  },
  {
   "cell_type": "markdown",
   "id": "dbd58b16",
   "metadata": {},
   "source": [
    "Аналогично приходится поступать и для более \"интересной\" функции $f(x) = xe^x - 2$, здесь $g(x) = -0.25 f(x) + x$"
   ]
  },
  {
   "cell_type": "code",
   "execution_count": 5,
   "id": "6667fce0",
   "metadata": {},
   "outputs": [
    {
     "name": "stdout",
     "output_type": "stream",
     "text": [
      "root = 0.8526055020137255\n",
      "f(root) = 0.0\n"
     ]
    }
   ],
   "source": [
    "f = (x) -> x * exp(x) - 2\n",
    "g = (x) -> -0.25 * f(x) + x\n",
    "root = fixedpoint(g, 0.8)\n",
    "@show root f(root);"
   ]
  },
  {
   "cell_type": "markdown",
   "id": "7bdf676e",
   "metadata": {},
   "source": [
    "```{raw} html\n",
    "</div>\n",
    "```"
   ]
  }
 ],
 "metadata": {
  "jupytext": {
   "formats": "md:myst",
   "text_representation": {
    "extension": ".md",
    "format_name": "myst"
   }
  },
  "kernelspec": {
   "display_name": "Julia",
   "language": "julia",
   "name": "julia-1.6"
  },
  "language_info": {
   "file_extension": ".jl",
   "mimetype": "application/julia",
   "name": "julia",
   "version": "1.6.2"
  },
  "source_map": [
   13,
   17,
   119,
   122,
   128,
   134,
   138,
   141,
   145,
   150
  ]
 },
 "nbformat": 4,
 "nbformat_minor": 5
}